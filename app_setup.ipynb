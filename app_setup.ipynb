{
 "cells": [
  {
   "cell_type": "code",
   "execution_count": 1,
   "id": "5b24a8f4",
   "metadata": {},
   "outputs": [],
   "source": [
    "#dependencies\n",
    "from flask import Flask, render_template, redirect, url_for\n",
    "from flask_pymongo import PyMongo\n",
    "import scraping"
   ]
  },
  {
   "cell_type": "code",
   "execution_count": 2,
   "id": "1d2d66db",
   "metadata": {},
   "outputs": [],
   "source": [
    "app = Flask(__name__)"
   ]
  },
  {
   "cell_type": "code",
   "execution_count": 3,
   "id": "52ff773a",
   "metadata": {},
   "outputs": [],
   "source": [
    "# use flask_pymong to set up mongo connection\n",
    "app.config['MONGO_URI'] = 'mongodb://localhost:27017/mars_app'\n",
    "mongo = PyMongo(app)"
   ]
  },
  {
   "cell_type": "code",
   "execution_count": 4,
   "id": "a4006dbd",
   "metadata": {},
   "outputs": [],
   "source": [
    "# setting up the index route\n",
    "@app.route('/')\n",
    "def index():\n",
    "    mars = mongo.db.mars.find_one()\n",
    "    return render_template('index.html', mars=mars)"
   ]
  },
  {
   "cell_type": "code",
   "execution_count": 5,
   "id": "69246700",
   "metadata": {},
   "outputs": [],
   "source": [
    "# set up the scraping route\n",
    "@app.route('/scrape')\n",
    "def scrape():\n",
    "    mars = mong.db.mars\n",
    "    mars_data = scraping.scrape_all()\n",
    "    mars.update_one({}, {'$set':mars_data}, upsert=True)\n",
    "    return rediret('/', code=302)"
   ]
  },
  {
   "cell_type": "code",
   "execution_count": null,
   "id": "194dc2c1",
   "metadata": {},
   "outputs": [],
   "source": [
    "if __name__ == '__main__':\n",
    "    app.run()"
   ]
  }
 ],
 "metadata": {
  "kernelspec": {
   "display_name": "PythonData",
   "language": "python",
   "name": "pythondata"
  },
  "language_info": {
   "codemirror_mode": {
    "name": "ipython",
    "version": 3
   },
   "file_extension": ".py",
   "mimetype": "text/x-python",
   "name": "python",
   "nbconvert_exporter": "python",
   "pygments_lexer": "ipython3",
   "version": "3.7.11"
  }
 },
 "nbformat": 4,
 "nbformat_minor": 5
}
